{
 "cells": [
  {
   "cell_type": "markdown",
   "metadata": {
    "id": "scFbmU9l0PLw"
   },
   "source": [
    "# Processamento de Imagens com `scikit-image`"
   ]
  },
  {
   "cell_type": "markdown",
   "metadata": {
    "id": "nS7wVz2K0PLx"
   },
   "source": [
    "O `scikit-image` é uma biblioteca de processamento de imagens que implementa algoritmos e utilitários para uso em pesquisa, educação e aplicações industriais. \n",
    "\n",
    "O `scikit-image` é disponível livre e gratuitamente. O site do projeto é `http://scikit-image.org`"
   ]
  },
  {
   "cell_type": "markdown",
   "metadata": {
    "id": "xAqq2K0_0PLy"
   },
   "source": [
    "`scikit-image`  é um pacote Python de processamento de imagens que trabalha com arrays do `numpy`. \n",
    "\n",
    "O pacote é **importado** no Python como `skimage`. Vamos também importar o `numpy` já que o utilizaremos constantemente."
   ]
  },
  {
   "cell_type": "code",
   "execution_count": null,
   "metadata": {
    "id": "TcOfqJCt0PL0"
   },
   "outputs": [],
   "source": [
    "import skimage\n",
    "import numpy as np\n",
    "from matplotlib import pyplot as plt\n",
    "from pylab import rcParams\n",
    "rcParams['figure.figsize'] = 10, 10"
   ]
  },
  {
   "cell_type": "code",
   "execution_count": null,
   "metadata": {
    "id": "oE5PBtse0PL4"
   },
   "outputs": [],
   "source": [
    "%matplotlib inline"
   ]
  },
  {
   "cell_type": "markdown",
   "metadata": {
    "id": "TLFuTNX70PL8"
   },
   "source": [
    "A maioria das funções do `skimage` são encontradas dentro de submódulos:"
   ]
  },
  {
   "cell_type": "code",
   "execution_count": null,
   "metadata": {
    "id": "VSrVvWcu0PL8"
   },
   "outputs": [],
   "source": [
    "from skimage import data\n",
    "camera = data.camera()"
   ]
  },
  {
   "cell_type": "markdown",
   "metadata": {
    "id": "DB3OSRf50PL_"
   },
   "source": [
    "Uma lista dos submódulos e funções pode ser encontrada na página da *Referência da API*."
   ]
  },
  {
   "cell_type": "code",
   "execution_count": null,
   "metadata": {
    "id": "noAPhZGf0PMA"
   },
   "outputs": [],
   "source": [
    "type(camera)"
   ]
  },
  {
   "cell_type": "code",
   "execution_count": null,
   "metadata": {
    "id": "MjJZqsxo0PMC"
   },
   "outputs": [],
   "source": [
    "# Uma imagem com 512 linhas e 512 colunas\n",
    "camera.shape"
   ]
  },
  {
   "cell_type": "markdown",
   "metadata": {
    "id": "O0KEyQya0PMF"
   },
   "source": [
    "## Imagens no Scipy (ndimage) e scikit-image\n",
    "\n",
    "Imagens manipuladas pelo `scikit-image` são simplesmente arrays NumPy. Portanto, uma grande parte das operações sobre imagens simplesmente consistirão em se usar o NumPy.\n",
    "\n",
    "```\n",
    ">>> from skimage import data\n",
    ">>> camera = data.camera()\n",
    ">>> type(camera)\n",
    "<type 'numpy.ndarray'>\n",
    "```\n",
    "\n",
    "Podemos recuperar a geometria da imagemm e o número de pixels:\n",
    "\n",
    "```\n",
    ">>> camera.shape\n",
    "(512, 512)\n",
    ">>> camera.size\n",
    "262144\n",
    "```\n",
    "\n",
    "Recuperando informações estatísticas sobre os níveis de cinza:\n",
    "\n",
    "``` \n",
    ">>> camera.min(), camera.max()\n",
    "(0, 255)\n",
    ">>> camera.mean()\n",
    "118.31400299072266\n",
    "```\n",
    "\n",
    "Arrays do NumPy que representam imagens podem ser de tipos diferentes de inteiros ou ponto-flutuantes. Veja o documento [Image data types](http://scikit-image.org/docs/dev/user_guide/data_types.html) para ver o que significam e para ter mais informação sobre estes tipos e como o scikit-image trata.\n",
    "\n",
    "\n",
    "\n",
    "### Imagens Coloridas\n",
    "\n",
    "Imagens coloridas também são arrays NumPy, com uma dimensão adicional no final: o canal.\n",
    "\n",
    "```\n",
    ">>> cat = data.chelsea()\n",
    ">>> type(cat)\n",
    "<type 'numpy.ndarray'>\n",
    ">>> cat.shape\n",
    "(300, 451, 3)\n",
    "```\n",
    "\n",
    "Isto mostra que `cat` é umam imagem de 300x451 pixels com três canais (vermelho, verde e azul). A manipulação dos valores dos pixels é a mesma que com imagens níveis de cinza, ou seja, pode-se alterar valores de pixels diretamente, e também recuperar estes valores. Tudo isso utilizando a notação (e o poder) dos *slices* dos arrays NumPy. Para aprender mais sobre o *slices* de NumPy, veja em [NumPy Indexing](http://docs.scipy.org/doc/numpy/reference/arrays.indexing.html)\n",
    "\n",
    "```\n",
    ">>> cat[10, 20]\n",
    "array([151, 129, 115], dtype=uint8)\n",
    ">>> # set the pixel at row 50, column 60 to black\n",
    ">>> cat[50, 60] = 0\n",
    ">>> # set the pixel at row 50, column 61 to green\n",
    ">>> cat[50, 61] = [0, 255, 0] # [red, green, blue]\n",
    "```\n",
    "\n",
    "Perceba que **cada pixel** (coordenada da imagem) é um array de 3 dimensões **(vermelho, verde, azul)**"
   ]
  },
  {
   "cell_type": "markdown",
   "metadata": {
    "id": "FC-CWinW0PMG"
   },
   "source": [
    "O submódulo `skimage.data` provê um conjunto de funções retornando imagens de exemplo, que podem ser utilizadas para explorarmos rapidamente das funções do scikit-image."
   ]
  },
  {
   "cell_type": "code",
   "execution_count": null,
   "metadata": {
    "id": "Y6_l6axN0PMG"
   },
   "outputs": [],
   "source": [
    "coins = data.coins()\n",
    "from skimage import filters\n",
    "threshold_value = filters.threshold_otsu(coins)\n",
    "threshold_value"
   ]
  },
  {
   "cell_type": "markdown",
   "metadata": {
    "id": "meRAzJi90PMJ"
   },
   "source": [
    "Logicamente, é também possível carregar nossas próprias imagens como arrays Numpy a partir de um arquivo de imagens, usando `skimage.io.imread()` quando estamos trabalhando na máquina local.\n",
    "Se estiver utilizando o  **Google Colaboratory** (`https://colab.research.google.com`) então precisará utilizar outra estratégia para carregar suas imagens e utilizá-las no notebook. Veja o tutorial de como fazer isso no Notebook [https://colab.research.google.com/notebook#fileId=/v2/external/notebooks/io.ipynb](https://colab.research.google.com/notebook#fileId=/v2/external/notebooks/io.ipynb)"
   ]
  },
  {
   "cell_type": "markdown",
   "metadata": {
    "id": "1RXByJouph6J"
   },
   "source": [
    "Quando estamos no notebook podemos usar comandos do \"shell\" prefixando cada comando com ! (ponto de exclamação)."
   ]
  },
  {
   "cell_type": "code",
   "execution_count": null,
   "metadata": {
    "id": "0ARaeXToyhmh"
   },
   "outputs": [],
   "source": [
    "!ls"
   ]
  },
  {
   "cell_type": "code",
   "execution_count": null,
   "metadata": {
    "id": "ZBCZ_N6T0PMK"
   },
   "outputs": [],
   "source": [
    "import os\n",
    "#filename = os.path.join(skimage.data_dir, 'moon.png')\n",
    "from skimage import io\n",
    "# filename = 'moon.png'\n",
    "#moon = io.imread(filename)\n"
   ]
  },
  {
   "cell_type": "markdown",
   "metadata": {
    "id": "jvVfPTaA0PMO"
   },
   "source": [
    "## Transformações de Níveis de Cinza\n",
    "\n",
    "Após ler uma imagem no Numpy, podemos realizar qualquer operação matemática desejada. Um exemplo simples, é transformar os níveis de cinza de uma imagem."
   ]
  },
  {
   "cell_type": "code",
   "execution_count": null,
   "metadata": {
    "id": "_rdqd0Jw0PMP"
   },
   "outputs": [],
   "source": [
    "#im = io.imread('empire.jpg')\n",
    "rocket = data.rocket()"
   ]
  },
  {
   "cell_type": "code",
   "execution_count": null,
   "metadata": {
    "id": "eFUjIJvYrlAv"
   },
   "outputs": [],
   "source": [
    "plt.imshow(rocket)"
   ]
  },
  {
   "cell_type": "markdown",
   "metadata": {
    "id": "HngtggQTr0Q0"
   },
   "source": [
    "Convertendo para nível de cinza"
   ]
  },
  {
   "cell_type": "code",
   "execution_count": null,
   "metadata": {
    "id": "Vl9jWaClsgsj"
   },
   "outputs": [],
   "source": [
    "from skimage.color import rgb2gray"
   ]
  },
  {
   "cell_type": "code",
   "execution_count": null,
   "metadata": {
    "id": "t2TPMkDCrzq_"
   },
   "outputs": [],
   "source": [
    " im = rgb2gray(rocket)"
   ]
  },
  {
   "cell_type": "markdown",
   "metadata": {
    "id": "7TYDDbZl0PMS"
   },
   "source": [
    "### Invertendo uma imagem\n",
    "\n",
    "Para inverter uma imagem, ou seja, pegar o negativo, realizamos a seguinte operação:\n",
    "\n",
    "$s = L -1 -r$"
   ]
  },
  {
   "cell_type": "code",
   "execution_count": null,
   "metadata": {
    "id": "3JUUr_Wv0PMS"
   },
   "outputs": [],
   "source": [
    "im2 = 255 - im # L = 256"
   ]
  },
  {
   "cell_type": "markdown",
   "metadata": {
    "id": "VuI04E_g0PMV"
   },
   "source": [
    "### Limitando os valores a uma faixa específica"
   ]
  },
  {
   "cell_type": "code",
   "execution_count": null,
   "metadata": {
    "id": "dWuVuteV0PMW"
   },
   "outputs": [],
   "source": [
    "im3 = (100.0/255) * im + 100 # limitando ao intervalo 100...200"
   ]
  },
  {
   "cell_type": "markdown",
   "metadata": {
    "id": "b2QdovYX0PMY"
   },
   "source": [
    "### Quadrando os valores, diminuindo os valores dos pixels mais escuros"
   ]
  },
  {
   "cell_type": "code",
   "execution_count": null,
   "metadata": {
    "id": "MrKMjb2_0PMa"
   },
   "outputs": [],
   "source": [
    "im4 = 255.0 * (im/255.0)**2 # quadrando"
   ]
  },
  {
   "cell_type": "code",
   "execution_count": null,
   "metadata": {
    "id": "-aXx1b280PMh"
   },
   "outputs": [],
   "source": [
    "plt.subplot(131),plt.imshow(im2,cmap='gray')\n",
    "plt.subplot(132),plt.imshow(im3,cmap='gray')\n",
    "plt.subplot(133),plt.imshow(im4,cmap='gray')"
   ]
  },
  {
   "cell_type": "code",
   "execution_count": null,
   "metadata": {
    "id": "_ObUe9cJ0PMl"
   },
   "outputs": [],
   "source": [
    "x = np.arange(0,256)\n",
    "f1 = x\n",
    "f2 = 255 - x \n",
    "f3 = (100.0/255.0)*x + 100 # for i in x\n",
    "f4 = 255.0*(x/255.0)**2 "
   ]
  },
  {
   "cell_type": "code",
   "execution_count": null,
   "metadata": {
    "id": "Z_YiTGGf0PMo"
   },
   "outputs": [],
   "source": [
    "plt.plot(x,f1,'r')\n",
    "plt.plot(x,f2,'b')\n",
    "plt.plot(x,f3,'g')\n",
    "plt.plot(x,f4,'y')\n",
    "plt.xlabel('Entrada')\n",
    "plt.ylabel('Saida')\n",
    "plt.legend(['f(x)=x','f(x)=255-x','f(x)=(100.0/255.0)*x+100','f(x)=255.0*(x/255.0)^2'])"
   ]
  },
  {
   "cell_type": "markdown",
   "metadata": {
    "id": "VvU6VEaT0PMq"
   },
   "source": [
    "### Exercícios\n",
    "\n",
    "1. Usando os exemplos acima, obtenha transformações lineares $T(r)$ que façam:\n",
    "\n",
    "      a. Alargamento de contraste, conforme mostrado em sala (slide 12 - Tópico 02)\n",
    "      \n",
    "      b. Limiarização, com *threshold* em 150\n",
    "     \n",
    "2. Obtenha transformações logarítmicas e de potência, plotando os gráficos das funções, conforme slide 14 - Tópico 02.\n",
    "\n",
    "**Use as imagens `rocket` acima e também a imagem `empire.jpg` disponibilizada na pasta do Moodle**"
   ]
  },
  {
   "cell_type": "markdown",
   "metadata": {
    "id": "SVEUgdUY0PMr"
   },
   "source": [
    "## Equalização de Histograma\n",
    "\n",
    "Um exemplo bem útil de transformação de nível de cinza é *equalização de histograma*. Esta transformação *achata* o histograma de níveis de cinza de uma imagem de  modo que todas as intensidades sejam tão igualmente comuns quanto possível. Esta é técnica é frequentemente utilizada antes de processamentos posteriores e também uma maneira de aumentar o contraste da imagem.\n",
    "\n",
    "A função de transformação, neste caso, uma *função de distribuição cumulativa* (cdf) dos valores dos pixels da imagem (normalizada para mapear a faixa dos valores dos pixels para a faixa desejada).\n",
    "\n",
    "Vamos criar uma função `histeq` que faz a **equalização** do histograma."
   ]
  },
  {
   "cell_type": "code",
   "execution_count": null,
   "metadata": {
    "id": "O3ahKv2x0PMs"
   },
   "outputs": [],
   "source": [
    "def histeq(im, nbr_bins=256):\n",
    "    \"\"\" Equalizacao do histograma de uma imagem nivel de cinza\"\"\"\n",
    "    # obtem o histograma da imagem\n",
    "    # utilizamos a funcao histogram do numpy\n",
    "    imhist,bins = np.histogram(im.flatten(),nbr_bins,normed=True)\n",
    "    cdf = imhist.cumsum() # funcao de distribuicao cumulativa\n",
    "    cdf = 255 * cdf / cdf[-1] # normalizar\n",
    "    \n",
    "    # usando interpolacao linear da cdf para encontrar os novos \n",
    "    # valores dos pixels\n",
    "    im2 = np.interp(im.flatten(), bins[:-1],cdf)\n",
    "    \n",
    "    return im2.reshape(im.shape),cdf\n",
    "   "
   ]
  },
  {
   "cell_type": "code",
   "execution_count": null,
   "metadata": {
    "id": "V1qyQq3f0PMu"
   },
   "outputs": [],
   "source": [
    "plt.subplot(2,2,1), plt.imshow(moon,cmap='gray')\n",
    "plt.subplot(2,2,2),plt.hist(moon.flatten(),bins=256)\n",
    "moon_eq,cdf = histeq(moon)\n",
    "plt.subplot(2,2,3),plt.imshow(moon_eq,cmap='gray')\n",
    "plt.subplot(2,2,4),plt.hist(moon_eq.flatten(),bins=256)\n",
    "plt.show()"
   ]
  },
  {
   "cell_type": "code",
   "execution_count": null,
   "metadata": {
    "id": "7boXJsyR0PMx"
   },
   "outputs": [],
   "source": [
    "plt.scatter(range(0,len(cdf)), cdf)"
   ]
  },
  {
   "cell_type": "markdown",
   "metadata": {
    "id": "ZCvMQeg00PM6"
   },
   "source": [
    "## Exercício de implementação\n",
    "\n",
    "Implemente uma função que recebe uma imagem no formato de um array do numpy com valores que variam de $L = {0 - 31}$ (32 níveis de cinza) e devolve a imagem com o histograma equalizado. As dimensões da imagem devem ser obtidas pela função a partir da função apropriada do numpy.\n",
    "\n",
    "Sua função deve implementar o procedimento descrito nos slides Transformações de Intensidade e Filtros Espaciais, página 47 e seguintes. Uma das expressões utilizadas é:\n",
    "$$s_k = T(r_k) = (L -1)\\sum_{j=0}^{K} p_r(r_j) = \\frac{(L -1)}{MN}\\sum_{j=0}^{k}$$ onde $T(r_k)$ é a transformação de equalização do histograma."
   ]
  },
  {
   "cell_type": "code",
   "execution_count": null,
   "metadata": {
    "id": "YEAkXA3FDR_B"
   },
   "outputs": [],
   "source": []
  }
 ],
 "metadata": {
  "colab": {
   "name": "IntroducaoScikitImage.ipynb",
   "provenance": []
  },
  "kernelspec": {
   "display_name": "Python 3",
   "language": "python",
   "name": "python3"
  },
  "language_info": {
   "codemirror_mode": {
    "name": "ipython",
    "version": 3
   },
   "file_extension": ".py",
   "mimetype": "text/x-python",
   "name": "python",
   "nbconvert_exporter": "python",
   "pygments_lexer": "ipython3",
   "version": "3.8.5"
  }
 },
 "nbformat": 4,
 "nbformat_minor": 1
}
